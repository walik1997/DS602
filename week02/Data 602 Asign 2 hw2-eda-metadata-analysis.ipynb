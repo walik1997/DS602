{
 "cells": [
  {
   "cell_type": "markdown",
   "metadata": {},
   "source": [
    "# Homework 2\n",
    "\n",
    "In this homework, we are gonna perform some EDA work on our browser history!\n",
    "\n",
    "Extract & prepare your history dataset using: `https://github.com/msaricaumbc/DS601/blob/main/Week09/homework/preparation_BrowserHistory.ipynb`\n",
    "\n",
    "DO NOT commit your history dataset!\n",
    "\n",
    "Watch this: https://www.youtube.com/watch?v=iFTWM7HV2UI"
   ]
  },
  {
   "cell_type": "code",
   "execution_count": 1,
   "metadata": {},
   "outputs": [],
   "source": [
    "#importing libraries\n",
    "import pandas as pd\n",
    "import matplotlib.pyplot as plt"
   ]
  },
  {
   "cell_type": "code",
   "execution_count": 2,
   "metadata": {},
   "outputs": [
    {
     "data": {
      "text/plain": [
       "(2328, 2)"
      ]
     },
     "execution_count": 2,
     "metadata": {},
     "output_type": "execute_result"
    }
   ],
   "source": [
    "#reading csv file \n",
    "df = pd.read_csv('history_cleaned main.csv')\n",
    "df.shape"
   ]
  },
  {
   "cell_type": "code",
   "execution_count": 3,
   "metadata": {},
   "outputs": [
    {
     "data": {
      "text/html": [
       "<div>\n",
       "<style scoped>\n",
       "    .dataframe tbody tr th:only-of-type {\n",
       "        vertical-align: middle;\n",
       "    }\n",
       "\n",
       "    .dataframe tbody tr th {\n",
       "        vertical-align: top;\n",
       "    }\n",
       "\n",
       "    .dataframe thead th {\n",
       "        text-align: right;\n",
       "    }\n",
       "</style>\n",
       "<table border=\"1\" class=\"dataframe\">\n",
       "  <thead>\n",
       "    <tr style=\"text-align: right;\">\n",
       "      <th></th>\n",
       "      <th>Time</th>\n",
       "      <th>domain</th>\n",
       "    </tr>\n",
       "  </thead>\n",
       "  <tbody>\n",
       "    <tr>\n",
       "      <th>0</th>\n",
       "      <td>9/18/2024 18:38</td>\n",
       "      <td>chatgpt.com</td>\n",
       "    </tr>\n",
       "    <tr>\n",
       "      <th>1</th>\n",
       "      <td>9/18/2024 18:26</td>\n",
       "      <td>chatgpt.com</td>\n",
       "    </tr>\n",
       "    <tr>\n",
       "      <th>2</th>\n",
       "      <td>9/18/2024 18:26</td>\n",
       "      <td>www.google.com</td>\n",
       "    </tr>\n",
       "    <tr>\n",
       "      <th>3</th>\n",
       "      <td>9/18/2024 18:26</td>\n",
       "      <td>google.com</td>\n",
       "    </tr>\n",
       "    <tr>\n",
       "      <th>4</th>\n",
       "      <td>9/18/2024 18:26</td>\n",
       "      <td>google.com</td>\n",
       "    </tr>\n",
       "  </tbody>\n",
       "</table>\n",
       "</div>"
      ],
      "text/plain": [
       "              Time          domain\n",
       "0  9/18/2024 18:38     chatgpt.com\n",
       "1  9/18/2024 18:26     chatgpt.com\n",
       "2  9/18/2024 18:26  www.google.com\n",
       "3  9/18/2024 18:26      google.com\n",
       "4  9/18/2024 18:26      google.com"
      ]
     },
     "execution_count": 3,
     "metadata": {},
     "output_type": "execute_result"
    }
   ],
   "source": [
    "#using head function to check top 5 entries \n",
    "df.head()"
   ]
  },
  {
   "cell_type": "code",
   "execution_count": 4,
   "metadata": {},
   "outputs": [
    {
     "data": {
      "text/html": [
       "<div>\n",
       "<style scoped>\n",
       "    .dataframe tbody tr th:only-of-type {\n",
       "        vertical-align: middle;\n",
       "    }\n",
       "\n",
       "    .dataframe tbody tr th {\n",
       "        vertical-align: top;\n",
       "    }\n",
       "\n",
       "    .dataframe thead th {\n",
       "        text-align: right;\n",
       "    }\n",
       "</style>\n",
       "<table border=\"1\" class=\"dataframe\">\n",
       "  <thead>\n",
       "    <tr style=\"text-align: right;\">\n",
       "      <th></th>\n",
       "      <th>Time</th>\n",
       "      <th>domain</th>\n",
       "    </tr>\n",
       "  </thead>\n",
       "  <tbody>\n",
       "    <tr>\n",
       "      <th>2323</th>\n",
       "      <td>1600-12-31 19:00:00</td>\n",
       "      <td>www1.go123movies.io</td>\n",
       "    </tr>\n",
       "    <tr>\n",
       "      <th>2324</th>\n",
       "      <td>1600-12-31 19:00:00</td>\n",
       "      <td>www1.subsmovies.nz</td>\n",
       "    </tr>\n",
       "    <tr>\n",
       "      <th>2325</th>\n",
       "      <td>1600-12-31 19:00:00</td>\n",
       "      <td>www3.the123movies.com</td>\n",
       "    </tr>\n",
       "    <tr>\n",
       "      <th>2326</th>\n",
       "      <td>1600-12-31 19:00:00</td>\n",
       "      <td>www3.the123movies.com</td>\n",
       "    </tr>\n",
       "    <tr>\n",
       "      <th>2327</th>\n",
       "      <td>8/21/2024 4:31</td>\n",
       "      <td>myactivity.google.com</td>\n",
       "    </tr>\n",
       "  </tbody>\n",
       "</table>\n",
       "</div>"
      ],
      "text/plain": [
       "                     Time                 domain\n",
       "2323  1600-12-31 19:00:00    www1.go123movies.io\n",
       "2324  1600-12-31 19:00:00     www1.subsmovies.nz\n",
       "2325  1600-12-31 19:00:00  www3.the123movies.com\n",
       "2326  1600-12-31 19:00:00  www3.the123movies.com\n",
       "2327       8/21/2024 4:31  myactivity.google.com"
      ]
     },
     "execution_count": 4,
     "metadata": {},
     "output_type": "execute_result"
    }
   ],
   "source": [
    "#using tail function to check last 5 entries\n",
    "df.tail()"
   ]
  },
  {
   "cell_type": "code",
   "execution_count": 5,
   "metadata": {},
   "outputs": [
    {
     "data": {
      "text/plain": [
       "Time      0\n",
       "domain    0\n",
       "dtype: int64"
      ]
     },
     "execution_count": 5,
     "metadata": {},
     "output_type": "execute_result"
    }
   ],
   "source": [
    "#checking null values sum using isna and sum function\n",
    "df.isna().sum()"
   ]
  },
  {
   "cell_type": "code",
   "execution_count": 6,
   "metadata": {},
   "outputs": [],
   "source": [
    "#double checking and dropping null values\n",
    "\n",
    "df.dropna( inplace=True)"
   ]
  },
  {
   "cell_type": "code",
   "execution_count": 7,
   "metadata": {},
   "outputs": [
    {
     "data": {
      "text/plain": [
       "Time      object\n",
       "domain    object\n",
       "dtype: object"
      ]
     },
     "execution_count": 7,
     "metadata": {},
     "output_type": "execute_result"
    }
   ],
   "source": [
    "#using dtypes for data types\n",
    "df.dtypes"
   ]
  },
  {
   "cell_type": "code",
   "execution_count": 8,
   "metadata": {},
   "outputs": [
    {
     "data": {
      "text/plain": [
       "216"
      ]
     },
     "execution_count": 8,
     "metadata": {},
     "output_type": "execute_result"
    }
   ],
   "source": [
    "# time column is string and string date is starting with YYYY, so I can do string compares\n",
    "sum(df['Time'] < '1900') "
   ]
  },
  {
   "cell_type": "code",
   "execution_count": 9,
   "metadata": {},
   "outputs": [],
   "source": [
    "# filtering time frame greater than 1900\n",
    "df = df[df.Time > '1900'].copy() "
   ]
  },
  {
   "cell_type": "code",
   "execution_count": 10,
   "metadata": {},
   "outputs": [
    {
     "data": {
      "text/html": [
       "<div>\n",
       "<style scoped>\n",
       "    .dataframe tbody tr th:only-of-type {\n",
       "        vertical-align: middle;\n",
       "    }\n",
       "\n",
       "    .dataframe tbody tr th {\n",
       "        vertical-align: top;\n",
       "    }\n",
       "\n",
       "    .dataframe thead th {\n",
       "        text-align: right;\n",
       "    }\n",
       "</style>\n",
       "<table border=\"1\" class=\"dataframe\">\n",
       "  <thead>\n",
       "    <tr style=\"text-align: right;\">\n",
       "      <th></th>\n",
       "      <th>Time</th>\n",
       "      <th>domain</th>\n",
       "    </tr>\n",
       "  </thead>\n",
       "  <tbody>\n",
       "    <tr>\n",
       "      <th>1592</th>\n",
       "      <td>2024-08-28 01:28:00</td>\n",
       "      <td>www.linkedin.com</td>\n",
       "    </tr>\n",
       "    <tr>\n",
       "      <th>1069</th>\n",
       "      <td>2024-09-03 18:56:00</td>\n",
       "      <td>www.google.co.in</td>\n",
       "    </tr>\n",
       "    <tr>\n",
       "      <th>126</th>\n",
       "      <td>2024-09-17 16:44:00</td>\n",
       "      <td>webauth.umbc.edu</td>\n",
       "    </tr>\n",
       "    <tr>\n",
       "      <th>1743</th>\n",
       "      <td>2024-08-26 15:22:00</td>\n",
       "      <td>api-4f567d87.duosecurity.com</td>\n",
       "    </tr>\n",
       "    <tr>\n",
       "      <th>1752</th>\n",
       "      <td>2024-08-26 14:10:00</td>\n",
       "      <td>www.linkedin.com</td>\n",
       "    </tr>\n",
       "    <tr>\n",
       "      <th>1446</th>\n",
       "      <td>2024-08-28 20:51:00</td>\n",
       "      <td>www.google.co.in</td>\n",
       "    </tr>\n",
       "    <tr>\n",
       "      <th>345</th>\n",
       "      <td>2024-09-13 10:27:00</td>\n",
       "      <td>sso.compassmanager.com</td>\n",
       "    </tr>\n",
       "    <tr>\n",
       "      <th>1843</th>\n",
       "      <td>2024-08-25 21:46:00</td>\n",
       "      <td>www.geeksforgeeks.org</td>\n",
       "    </tr>\n",
       "    <tr>\n",
       "      <th>1571</th>\n",
       "      <td>2024-08-28 01:32:00</td>\n",
       "      <td>www.linkedin.com</td>\n",
       "    </tr>\n",
       "    <tr>\n",
       "      <th>1089</th>\n",
       "      <td>2024-09-02 23:26:00</td>\n",
       "      <td>www.youtube.com</td>\n",
       "    </tr>\n",
       "  </tbody>\n",
       "</table>\n",
       "</div>"
      ],
      "text/plain": [
       "                    Time                        domain\n",
       "1592 2024-08-28 01:28:00              www.linkedin.com\n",
       "1069 2024-09-03 18:56:00              www.google.co.in\n",
       "126  2024-09-17 16:44:00              webauth.umbc.edu\n",
       "1743 2024-08-26 15:22:00  api-4f567d87.duosecurity.com\n",
       "1752 2024-08-26 14:10:00              www.linkedin.com\n",
       "1446 2024-08-28 20:51:00              www.google.co.in\n",
       "345  2024-09-13 10:27:00        sso.compassmanager.com\n",
       "1843 2024-08-25 21:46:00         www.geeksforgeeks.org\n",
       "1571 2024-08-28 01:32:00              www.linkedin.com\n",
       "1089 2024-09-02 23:26:00               www.youtube.com"
      ]
     },
     "execution_count": 10,
     "metadata": {},
     "output_type": "execute_result"
    }
   ],
   "source": [
    "#using pd.to_datetime() function to convert time to time string\n",
    "df['Time'] = pd.to_datetime(df['Time'])\n",
    "df.sample(10)"
   ]
  },
  {
   "cell_type": "code",
   "execution_count": 11,
   "metadata": {},
   "outputs": [
    {
     "data": {
      "text/html": [
       "<div>\n",
       "<style scoped>\n",
       "    .dataframe tbody tr th:only-of-type {\n",
       "        vertical-align: middle;\n",
       "    }\n",
       "\n",
       "    .dataframe tbody tr th {\n",
       "        vertical-align: top;\n",
       "    }\n",
       "\n",
       "    .dataframe thead th {\n",
       "        text-align: right;\n",
       "    }\n",
       "</style>\n",
       "<table border=\"1\" class=\"dataframe\">\n",
       "  <thead>\n",
       "    <tr style=\"text-align: right;\">\n",
       "      <th></th>\n",
       "      <th>Time</th>\n",
       "      <th>domain</th>\n",
       "    </tr>\n",
       "  </thead>\n",
       "  <tbody>\n",
       "    <tr>\n",
       "      <th>2106</th>\n",
       "      <td>2024-08-21 06:34:00</td>\n",
       "      <td>myactivity.google.com</td>\n",
       "    </tr>\n",
       "  </tbody>\n",
       "</table>\n",
       "</div>"
      ],
      "text/plain": [
       "                    Time                 domain\n",
       "2106 2024-08-21 06:34:00  myactivity.google.com"
      ]
     },
     "execution_count": 11,
     "metadata": {},
     "output_type": "execute_result"
    }
   ],
   "source": [
    "#converting the domain column to string.\n",
    "df['domain'] = df['domain'].astype(str)\n",
    "df.sample(1)"
   ]
  },
  {
   "cell_type": "code",
   "execution_count": 12,
   "metadata": {},
   "outputs": [
    {
     "data": {
      "text/plain": [
       "Time      datetime64[ns]\n",
       "domain            object\n",
       "dtype: object"
      ]
     },
     "execution_count": 12,
     "metadata": {},
     "output_type": "execute_result"
    }
   ],
   "source": [
    "#using dtypes function to check the data type\n",
    "df.dtypes"
   ]
  },
  {
   "cell_type": "code",
   "execution_count": 13,
   "metadata": {},
   "outputs": [
    {
     "data": {
      "text/html": [
       "<div>\n",
       "<style scoped>\n",
       "    .dataframe tbody tr th:only-of-type {\n",
       "        vertical-align: middle;\n",
       "    }\n",
       "\n",
       "    .dataframe tbody tr th {\n",
       "        vertical-align: top;\n",
       "    }\n",
       "\n",
       "    .dataframe thead th {\n",
       "        text-align: right;\n",
       "    }\n",
       "</style>\n",
       "<table border=\"1\" class=\"dataframe\">\n",
       "  <thead>\n",
       "    <tr style=\"text-align: right;\">\n",
       "      <th></th>\n",
       "      <th>Time</th>\n",
       "      <th>domain</th>\n",
       "    </tr>\n",
       "  </thead>\n",
       "  <tbody>\n",
       "    <tr>\n",
       "      <th>0</th>\n",
       "      <td>2024-09-18 18:38:00</td>\n",
       "      <td>chatgpt.com</td>\n",
       "    </tr>\n",
       "    <tr>\n",
       "      <th>1</th>\n",
       "      <td>2024-09-18 18:26:00</td>\n",
       "      <td>chatgpt.com</td>\n",
       "    </tr>\n",
       "    <tr>\n",
       "      <th>2</th>\n",
       "      <td>2024-09-18 18:26:00</td>\n",
       "      <td>www.google.com</td>\n",
       "    </tr>\n",
       "    <tr>\n",
       "      <th>3</th>\n",
       "      <td>2024-09-18 18:26:00</td>\n",
       "      <td>google.com</td>\n",
       "    </tr>\n",
       "    <tr>\n",
       "      <th>4</th>\n",
       "      <td>2024-09-18 18:26:00</td>\n",
       "      <td>google.com</td>\n",
       "    </tr>\n",
       "  </tbody>\n",
       "</table>\n",
       "</div>"
      ],
      "text/plain": [
       "                 Time          domain\n",
       "0 2024-09-18 18:38:00     chatgpt.com\n",
       "1 2024-09-18 18:26:00     chatgpt.com\n",
       "2 2024-09-18 18:26:00  www.google.com\n",
       "3 2024-09-18 18:26:00      google.com\n",
       "4 2024-09-18 18:26:00      google.com"
      ]
     },
     "execution_count": 13,
     "metadata": {},
     "output_type": "execute_result"
    }
   ],
   "source": [
    "#using head function to check the changed top 5 rows\n",
    "df.head()"
   ]
  },
  {
   "cell_type": "code",
   "execution_count": 14,
   "metadata": {
    "scrolled": false
   },
   "outputs": [
    {
     "data": {
      "text/plain": [
       "www.linkedin.com                379\n",
       "www.youtube.com                 322\n",
       "www.google.co.in                133\n",
       "www.instagram.com               115\n",
       "chatgpt.com                      98\n",
       "accounts.google.com              81\n",
       "webauth.umbc.edu                 76\n",
       "api-4f567d87.duosecurity.com     70\n",
       "www.google.com                   50\n",
       "auth0.openai.com                 31\n",
       "careers-ecslimited.icims.com     26\n",
       "csprd-web.ps.umbc.edu            26\n",
       "recruiting2.ultipro.com          23\n",
       "www.amazon.com                   22\n",
       "my.umbc.edu                      19\n",
       "mail.google.com                  18\n",
       "www.overleaf.com                 18\n",
       "myactivity.google.com            17\n",
       "my3.my.umbc.edu                  17\n",
       "smartapply.indeed.com            16\n",
       "neetcode.io                      15\n",
       "blackboard.umbc.edu              15\n",
       "www.geeksforgeeks.org            15\n",
       "apply-arco.icims.com             14\n",
       "docs.google.com                  12\n",
       "www.chess.com                    12\n",
       "us06web.zoom.us                  11\n",
       "emit.fa.ca3.oraclecloud.com      10\n",
       "signin.ultipro.com               10\n",
       "stackoverflow.com                10\n",
       "auth.openai.com                  10\n",
       "wlgore.taleo.net                  9\n",
       "support.google.com                8\n",
       "msc.csod.com                      8\n",
       "live.goswift.ly                   7\n",
       "jobs.jobvite.com                  7\n",
       "pythontutor.com                   7\n",
       "mobile2.emirates.com              7\n",
       "www.w3schools.com                 7\n",
       "intern-aarp.icims.com             7\n",
       "secure2.entertimeonline.com       7\n",
       "github.com                        6\n",
       "www.googleadservices.com          6\n",
       "mtssyncnow.com                    6\n",
       "acrobat.adobe.com                 6\n",
       "www.amazon.jobs                   6\n",
       "www.talent.com                    6\n",
       "www.krogerfamilycareers.com       6\n",
       "target.wd5.myworkdayjobs.com      6\n",
       "clark.wd5.myworkdayjobs.com       5\n",
       "Name: domain, dtype: int64"
      ]
     },
     "execution_count": 14,
     "metadata": {},
     "output_type": "execute_result"
    }
   ],
   "source": [
    "#check the top 50 websites and couting their entries  \n",
    "df['domain'].value_counts()[:50]"
   ]
  },
  {
   "cell_type": "code",
   "execution_count": 15,
   "metadata": {
    "scrolled": false
   },
   "outputs": [
    {
     "data": {
      "text/plain": [
       "<Axes: >"
      ]
     },
     "execution_count": 15,
     "metadata": {},
     "output_type": "execute_result"
    },
    {
     "data": {
      "image/png": "[encoded data removed]",
      "text/plain": [
       "<Figure size 640x480 with 1 Axes>"
      ]
     },
     "metadata": {},
     "output_type": "display_data"
    }
   ],
   "source": [
    "# Filtering the top 25 domain with respect to count and plotting a bar graph\n",
    "df['domain'].value_counts()[:25].plot(kind='bar')"
   ]
  },
  {
   "cell_type": "markdown",
   "metadata": {},
   "source": [
    "Interpretation of the graph/trend - The left side of the graph shows the most visited websites and as we move right we can see the least visited websites.\n",
    "Top 5 visited websites in top 25 filter are: \n",
    "1. www.linkedin.com                379\n",
    "2. www.youtube.com                 322\n",
    "3. www.google.co.in                133\n",
    "4. www.instagram.com               115\n",
    "5. chatgpt.com                      98\n",
    "\n",
    "least 5 visited in the recent 25 are :\n",
    "1. neetcode.io                      15\n",
    "2. blackboard.umbc.edu              15\n",
    "3. www.geeksforgeeks.org            15\n",
    "4. apply-arco.icims.com             14\n",
    "5. docs.google.com                  12\n"
   ]
  },
  {
   "cell_type": "code",
   "execution_count": 16,
   "metadata": {},
   "outputs": [
    {
     "data": {
      "text/plain": [
       "Time\n",
       "0     120\n",
       "1     153\n",
       "2      38\n",
       "3      11\n",
       "4       1\n",
       "5       8\n",
       "6      27\n",
       "7       4\n",
       "8      18\n",
       "9      62\n",
       "10    133\n",
       "11     44\n",
       "12     91\n",
       "13     71\n",
       "14     79\n",
       "15    111\n",
       "16    187\n",
       "17    188\n",
       "18    153\n",
       "19    152\n",
       "20    102\n",
       "21     56\n",
       "22    129\n",
       "23    174\n",
       "Name: domain, dtype: int64"
      ]
     },
     "execution_count": 16,
     "metadata": {},
     "output_type": "execute_result"
    }
   ],
   "source": [
    "#Filtering usage at different hours by grouping hours and the counts\n",
    "hourly_counts = df.groupby(df.Time.dt.hour).domain.size()\n",
    "hourly_counts"
   ]
  },
  {
   "cell_type": "code",
   "execution_count": 17,
   "metadata": {
    "scrolled": false
   },
   "outputs": [
    {
     "data": {
      "text/plain": [
       "<Axes: xlabel='Time'>"
      ]
     },
     "execution_count": 17,
     "metadata": {},
     "output_type": "execute_result"
    },
    {
     "data": {
      "image/png": "[encoded data removed]",
      "text/plain": [
       "<Figure size 640x480 with 1 Axes>"
      ]
     },
     "metadata": {},
     "output_type": "display_data"
    }
   ],
   "source": [
    "#plotting the grouped hour wise usage count. X axis has hours in 24 hour format ranging from 0-23 hrs \n",
    "#and y axis has how many times it was accessed.  \n",
    "hourly_counts.plot.bar()"
   ]
  },
  {
   "cell_type": "markdown",
   "metadata": {},
   "source": [
    "Insights from the graph\n",
    "1. High Activity- Increased activity can be noticed during later part of the day from 16 and a small drop can be seen near 21 \n",
    "which can be assummed as a break and then again the usage starts increasing from 22:00 PM to 1 AM\n",
    "2. Least Activity - The least activity period is fro 2:00 AM to 9 AM. It can be assummed that user could be sleeping during this hour \n",
    "It can be observed that 4:00 PM to to 2 AM is the peak work time.\n"
   ]
  },
  {
   "cell_type": "code",
   "execution_count": 18,
   "metadata": {},
   "outputs": [
    {
     "data": {
      "text/html": [
       "<div>\n",
       "<style scoped>\n",
       "    .dataframe tbody tr th:only-of-type {\n",
       "        vertical-align: middle;\n",
       "    }\n",
       "\n",
       "    .dataframe tbody tr th {\n",
       "        vertical-align: top;\n",
       "    }\n",
       "\n",
       "    .dataframe thead th {\n",
       "        text-align: right;\n",
       "    }\n",
       "</style>\n",
       "<table border=\"1\" class=\"dataframe\">\n",
       "  <thead>\n",
       "    <tr style=\"text-align: right;\">\n",
       "      <th></th>\n",
       "      <th>Time</th>\n",
       "      <th>domain</th>\n",
       "      <th>Day</th>\n",
       "      <th>DayIndex</th>\n",
       "    </tr>\n",
       "  </thead>\n",
       "  <tbody>\n",
       "    <tr>\n",
       "      <th>0</th>\n",
       "      <td>2024-09-18 18:38:00</td>\n",
       "      <td>chatgpt.com</td>\n",
       "      <td>Wednesday</td>\n",
       "      <td>2</td>\n",
       "    </tr>\n",
       "    <tr>\n",
       "      <th>1</th>\n",
       "      <td>2024-09-18 18:26:00</td>\n",
       "      <td>chatgpt.com</td>\n",
       "      <td>Wednesday</td>\n",
       "      <td>2</td>\n",
       "    </tr>\n",
       "    <tr>\n",
       "      <th>2</th>\n",
       "      <td>2024-09-18 18:26:00</td>\n",
       "      <td>www.google.com</td>\n",
       "      <td>Wednesday</td>\n",
       "      <td>2</td>\n",
       "    </tr>\n",
       "    <tr>\n",
       "      <th>3</th>\n",
       "      <td>2024-09-18 18:26:00</td>\n",
       "      <td>google.com</td>\n",
       "      <td>Wednesday</td>\n",
       "      <td>2</td>\n",
       "    </tr>\n",
       "    <tr>\n",
       "      <th>4</th>\n",
       "      <td>2024-09-18 18:26:00</td>\n",
       "      <td>google.com</td>\n",
       "      <td>Wednesday</td>\n",
       "      <td>2</td>\n",
       "    </tr>\n",
       "  </tbody>\n",
       "</table>\n",
       "</div>"
      ],
      "text/plain": [
       "                 Time          domain        Day  DayIndex\n",
       "0 2024-09-18 18:38:00     chatgpt.com  Wednesday         2\n",
       "1 2024-09-18 18:26:00     chatgpt.com  Wednesday         2\n",
       "2 2024-09-18 18:26:00  www.google.com  Wednesday         2\n",
       "3 2024-09-18 18:26:00      google.com  Wednesday         2\n",
       "4 2024-09-18 18:26:00      google.com  Wednesday         2"
      ]
     },
     "execution_count": 18,
     "metadata": {},
     "output_type": "execute_result"
    }
   ],
   "source": [
    "# Itterating over each entry to add name and day index of the day to find a usage pattern in week\n",
    "df['Day'] = [ d.day_name() for d in df['Time']]\n",
    "df['DayIndex'] = [ d.dayofweek for d in df['Time']]\n",
    "df.head()"
   ]
  },
  {
   "cell_type": "code",
   "execution_count": 19,
   "metadata": {},
   "outputs": [
    {
     "data": {
      "text/plain": [
       "Saturday     487\n",
       "Wednesday    471\n",
       "Monday       260\n",
       "Friday       244\n",
       "Sunday       240\n",
       "Thursday     220\n",
       "Tuesday      190\n",
       "Name: Day, dtype: int64"
      ]
     },
     "execution_count": 19,
     "metadata": {},
     "output_type": "execute_result"
    }
   ],
   "source": [
    "#getting the value counts for websites accessed on each day of the week using counts function\n",
    "df['Day'].value_counts()"
   ]
  },
  {
   "cell_type": "code",
   "execution_count": 20,
   "metadata": {},
   "outputs": [
    {
     "data": {
      "text/plain": [
       "0    260\n",
       "1    190\n",
       "2    471\n",
       "3    220\n",
       "4    244\n",
       "5    487\n",
       "6    240\n",
       "Name: DayIndex, dtype: int64"
      ]
     },
     "execution_count": 20,
     "metadata": {},
     "output_type": "execute_result"
    }
   ],
   "source": [
    "#Sorting the data in daywise manner in order to display with notations of different days using value_counts and sort_index functions are used  \n",
    "days_sorted = df['DayIndex'].value_counts().sort_index()\n",
    "days_sorted"
   ]
  },
  {
   "cell_type": "code",
   "execution_count": 21,
   "metadata": {},
   "outputs": [
    {
     "data": {
      "image/png": "[encoded data removed]",
      "text/plain": [
       "<Figure size 640x480 with 1 Axes>"
      ]
     },
     "metadata": {},
     "output_type": "display_data"
    }
   ],
   "source": [
    "#plotting the graph while renaming 0,1,2,3,4,5,6 as 'M', 'T', 'W','Th', 'F', 'Sa', 'Su'\n",
    "days_sorted.plot.bar()\n",
    "plt.xticks(days_sorted.index, ['M', 'T', 'W','Th', 'F', 'Sa', 'Su'], rotation=0)\n",
    "\n",
    "plt.show()"
   ]
  },
  {
   "cell_type": "markdown",
   "metadata": {},
   "source": [
    "1. Highest Activity is seen on Wednesday and Saturday. It can be assummed that Most of the submission deadlines or work reviews could be on Thursday and Sunday\n",
    "2. Lowest activity is on Tuesday. It can sugges that it is relatively an inactive day and tasks for the week are not yet given. Adding to the same thought Wednesday has the highest usage reflecting that most of the work starts on tuesday\n",
    "3. Weekends also have significant activity- Since there is  less entertainment related data it can be inferred that the user works on saturday and relaxes on sundays comparitvely."
   ]
  },
  {
   "cell_type": "code",
   "execution_count": 22,
   "metadata": {},
   "outputs": [
    {
     "data": {
      "text/html": [
       "<div>\n",
       "<style scoped>\n",
       "    .dataframe tbody tr th:only-of-type {\n",
       "        vertical-align: middle;\n",
       "    }\n",
       "\n",
       "    .dataframe tbody tr th {\n",
       "        vertical-align: top;\n",
       "    }\n",
       "\n",
       "    .dataframe thead th {\n",
       "        text-align: right;\n",
       "    }\n",
       "</style>\n",
       "<table border=\"1\" class=\"dataframe\">\n",
       "  <thead>\n",
       "    <tr style=\"text-align: right;\">\n",
       "      <th></th>\n",
       "      <th>Time</th>\n",
       "      <th>domain</th>\n",
       "      <th>Day</th>\n",
       "      <th>DayIndex</th>\n",
       "      <th>isWeekend</th>\n",
       "    </tr>\n",
       "  </thead>\n",
       "  <tbody>\n",
       "    <tr>\n",
       "      <th>1474</th>\n",
       "      <td>2024-08-28 20:28:00</td>\n",
       "      <td>www.overleaf.com</td>\n",
       "      <td>Wednesday</td>\n",
       "      <td>2</td>\n",
       "      <td>False</td>\n",
       "    </tr>\n",
       "  </tbody>\n",
       "</table>\n",
       "</div>"
      ],
      "text/plain": [
       "                    Time            domain        Day  DayIndex  isWeekend\n",
       "1474 2024-08-28 20:28:00  www.overleaf.com  Wednesday         2      False"
      ]
     },
     "execution_count": 22,
     "metadata": {},
     "output_type": "execute_result"
    }
   ],
   "source": [
    "#Looping through the data and for every value of i it checks with the help of function \n",
    "#if its a sat or sun and returns True if weekend\n",
    "def is_weekend(day): \n",
    "    return day in ['Saturday', 'Sunday']\n",
    "\n",
    "\n",
    "df['isWeekend'] = [ is_weekend(i) for i in df['Day']]\n",
    "df.sample()"
   ]
  },
  {
   "cell_type": "code",
   "execution_count": 23,
   "metadata": {},
   "outputs": [],
   "source": [
    "#if the value is true then its weekend and if not then weekday\n",
    "weekend = df[ df['isWeekend'] == True ]\n",
    "\n",
    "weekday = df[ df['isWeekend'] == False ]\n"
   ]
  },
  {
   "cell_type": "code",
   "execution_count": 24,
   "metadata": {},
   "outputs": [
    {
     "data": {
      "text/html": [
       "<div>\n",
       "<style scoped>\n",
       "    .dataframe tbody tr th:only-of-type {\n",
       "        vertical-align: middle;\n",
       "    }\n",
       "\n",
       "    .dataframe tbody tr th {\n",
       "        vertical-align: top;\n",
       "    }\n",
       "\n",
       "    .dataframe thead th {\n",
       "        text-align: right;\n",
       "    }\n",
       "</style>\n",
       "<table border=\"1\" class=\"dataframe\">\n",
       "  <thead>\n",
       "    <tr style=\"text-align: right;\">\n",
       "      <th></th>\n",
       "      <th>Time</th>\n",
       "      <th>domain</th>\n",
       "      <th>Day</th>\n",
       "      <th>DayIndex</th>\n",
       "      <th>isWeekend</th>\n",
       "    </tr>\n",
       "  </thead>\n",
       "  <tbody>\n",
       "    <tr>\n",
       "      <th>189</th>\n",
       "      <td>2024-09-15 22:44:00</td>\n",
       "      <td>app.grammarly.com</td>\n",
       "      <td>Sunday</td>\n",
       "      <td>6</td>\n",
       "      <td>True</td>\n",
       "    </tr>\n",
       "    <tr>\n",
       "      <th>190</th>\n",
       "      <td>2024-09-15 22:44:00</td>\n",
       "      <td>www.grammarly.com</td>\n",
       "      <td>Sunday</td>\n",
       "      <td>6</td>\n",
       "      <td>True</td>\n",
       "    </tr>\n",
       "    <tr>\n",
       "      <th>191</th>\n",
       "      <td>2024-09-15 22:44:00</td>\n",
       "      <td>app.grammarly.com</td>\n",
       "      <td>Sunday</td>\n",
       "      <td>6</td>\n",
       "      <td>True</td>\n",
       "    </tr>\n",
       "    <tr>\n",
       "      <th>192</th>\n",
       "      <td>2024-09-15 22:44:00</td>\n",
       "      <td>www.google.co.in</td>\n",
       "      <td>Sunday</td>\n",
       "      <td>6</td>\n",
       "      <td>True</td>\n",
       "    </tr>\n",
       "    <tr>\n",
       "      <th>193</th>\n",
       "      <td>2024-09-15 22:31:00</td>\n",
       "      <td>www.google.co.in</td>\n",
       "      <td>Sunday</td>\n",
       "      <td>6</td>\n",
       "      <td>True</td>\n",
       "    </tr>\n",
       "  </tbody>\n",
       "</table>\n",
       "</div>"
      ],
      "text/plain": [
       "                   Time             domain     Day  DayIndex  isWeekend\n",
       "189 2024-09-15 22:44:00  app.grammarly.com  Sunday         6       True\n",
       "190 2024-09-15 22:44:00  www.grammarly.com  Sunday         6       True\n",
       "191 2024-09-15 22:44:00  app.grammarly.com  Sunday         6       True\n",
       "192 2024-09-15 22:44:00   www.google.co.in  Sunday         6       True\n",
       "193 2024-09-15 22:31:00   www.google.co.in  Sunday         6       True"
      ]
     },
     "execution_count": 24,
     "metadata": {},
     "output_type": "execute_result"
    }
   ],
   "source": [
    "#using head function to check the orientation\n",
    "weekend.head()"
   ]
  },
  {
   "cell_type": "code",
   "execution_count": 25,
   "metadata": {},
   "outputs": [
    {
     "data": {
      "text/plain": [
       "www.linkedin.com    235\n",
       "www.youtube.com     189\n",
       "www.google.co.in     99\n",
       "webauth.umbc.edu     73\n",
       "chatgpt.com          67\n",
       "Name: domain, dtype: int64"
      ]
     },
     "execution_count": 25,
     "metadata": {},
     "output_type": "execute_result"
    }
   ],
   "source": [
    "#counting the weekday values for each domain using values_count function\n",
    "weekday['domain'].value_counts()[:5]"
   ]
  },
  {
   "cell_type": "code",
   "execution_count": 26,
   "metadata": {},
   "outputs": [
    {
     "data": {
      "text/plain": [
       "www.linkedin.com                144\n",
       "www.youtube.com                 133\n",
       "www.instagram.com               115\n",
       "www.google.co.in                 34\n",
       "chatgpt.com                      31\n",
       "careers-ecslimited.icims.com     26\n",
       "www.amazon.com                   21\n",
       "accounts.google.com              15\n",
       "mail.google.com                  11\n",
       "www.google.com                    9\n",
       "neetcode.io                       8\n",
       "jobs.jobvite.com                  7\n",
       "pythontutor.com                   7\n",
       "www.geeksforgeeks.org             6\n",
       "acrobat.adobe.com                 6\n",
       "Name: domain, dtype: int64"
      ]
     },
     "execution_count": 26,
     "metadata": {},
     "output_type": "execute_result"
    }
   ],
   "source": [
    "#counting the weekend values for each domain using values_count function\n",
    "weekend['domain'].value_counts()[:15]"
   ]
  },
  {
   "cell_type": "code",
   "execution_count": 27,
   "metadata": {},
   "outputs": [
    {
     "data": {
      "image/png": "[encoded data removed]",
      "text/plain": [
       "<Figure size 1200x500 with 2 Axes>"
      ]
     },
     "metadata": {},
     "output_type": "display_data"
    }
   ],
   "source": [
    "#the function is designed to plot data of weekdays and weekends in a 2 side by side plot\n",
    "def show_stats(df, color, alpha=1, title='', fig=None):\n",
    "    hourly_counts = df.groupby(df.Time.dt.hour).domain.size()\n",
    "    \n",
    "    \n",
    "    for h in range(24):\n",
    "        if h not in hourly_counts:\n",
    "            hourly_counts[h]=0 # I initially didn't do this and hours were not lining up\n",
    "            \n",
    "    if fig != None:\n",
    "        plt.subplot(1,2, fig)\n",
    "        \n",
    "    hourly_counts.sort_index().plot.bar(color=color, alpha=alpha)\n",
    "    plt.title(title)\n",
    "    plt.ylim([0, 1300])\n",
    "    \n",
    "\n",
    "plt.figure(figsize=(12, 5))\n",
    "show_stats( weekend, 'red', 1, 'Weekend', 1)\n",
    "    \n",
    "show_stats( weekday, 'blue', 0.5, 'Weekday', 2)\n",
    "\n",
    "plt.show()\n"
   ]
  },
  {
   "cell_type": "markdown",
   "metadata": {},
   "source": [
    "Be skeptical!\n",
    "\n",
    "Am I on computer a lot more on the weekdays or it shows more simply because there are more weekdays "
   ]
  },
  {
   "cell_type": "markdown",
   "metadata": {},
   "source": [
    "1. During Weekends the activity shows spike in from 12 PM with periodic breaks at 4PM and 9-10 PM the web activity can be noticed \n",
    "2. For the Week day part random peaks can be seen at 10 AM, 4 PM,5 PM.\n",
    "\n",
    "It shows I am more active weekdays but this is not normalized "
   ]
  },
  {
   "cell_type": "code",
   "execution_count": 28,
   "metadata": {
    "scrolled": false
   },
   "outputs": [
    {
     "data": {
      "image/png": "[encoded data removed]",
      "text/plain": [
       "<Figure size 1200x500 with 2 Axes>"
      ]
     },
     "metadata": {},
     "output_type": "display_data"
    }
   ],
   "source": [
    "# Normalizing the data within the function by dividing the hourly activity by the number of unique days in the dataset. and plotting the graph\n",
    "def show_stats(df, color, alpha=1, title='', fig=None, y_lim = None):\n",
    "    hourly_counts = df.groupby(df.Time.dt.hour).domain.size()\n",
    "    \n",
    "    days_counts = df.Time.dt.date.nunique()\n",
    "    \n",
    "    # fill in the missing hours\n",
    "    for h in range(24):\n",
    "        if h not in hourly_counts:\n",
    "            hourly_counts[h]=0 # I initially didn't do this and hours were not lining up\n",
    "        else: \n",
    "            hourly_counts[h] = hourly_counts[h] * 100.0 /  days_counts # I multiplied by 100.0 to make it float and also not to loose decimals\n",
    "           \n",
    "    if fig != None:\n",
    "        plt.subplot(1,2, fig)\n",
    "        \n",
    "    hourly_counts.sort_index().plot.bar(color=color, alpha=alpha, title=title)\n",
    "    \n",
    "    if y_lim != None:\n",
    "        plt.ylim(y_lim)\n",
    "\n",
    "\n",
    "plt.figure(figsize=(12, 5))\n",
    "\n",
    "y_lim=[0, 1800]\n",
    "show_stats(weekend, 'red', 1, 'Weekend',fig=1, y_lim=y_lim)\n",
    "    \n",
    "show_stats(weekday, 'blue', 0.5, 'Weekday',fig=2, y_lim=y_lim)\n",
    "\n",
    "plt.show()"
   ]
  },
  {
   "cell_type": "markdown",
   "metadata": {},
   "source": [
    "After Normalizing there is a clear view \n",
    "1. it shows that I am way more active on weekends during 11 AM to 7PM gradually increasing usage\n",
    "2. during week days there is no specific pattern. We can see Peaks from 12- 1AM, 10 AM, 4-5 PM\n",
    "This shows I am way more active on Weekends"
   ]
  },
  {
   "cell_type": "code",
   "execution_count": 29,
   "metadata": {},
   "outputs": [
    {
     "data": {
      "text/plain": [
       "www.linkedin.com                379\n",
       "www.youtube.com                 322\n",
       "www.google.co.in                133\n",
       "www.instagram.com               115\n",
       "chatgpt.com                      98\n",
       "accounts.google.com              81\n",
       "webauth.umbc.edu                 76\n",
       "api-4f567d87.duosecurity.com     70\n",
       "www.google.com                   50\n",
       "auth0.openai.com                 31\n",
       "Name: domain, dtype: int64"
      ]
     },
     "execution_count": 29,
     "metadata": {},
     "output_type": "execute_result"
    }
   ],
   "source": [
    "#Using value counts function for domains to count numbers\n",
    "df['domain'].value_counts()[:10]"
   ]
  },
  {
   "cell_type": "code",
   "execution_count": 30,
   "metadata": {},
   "outputs": [],
   "source": [
    "#get_data_for_domain Returns rows where the 'domain' column contains the string 'val' \n",
    "def get_data_for_domain(val):\n",
    "    return df[df['domain'].str.lower().str.contains(val.lower(), regex=True)]\n",
    "\n",
    "# get_data_for_domain('youtube')"
   ]
  },
  {
   "cell_type": "code",
   "execution_count": 31,
   "metadata": {},
   "outputs": [],
   "source": [
    "#creating a function to plot \n",
    "def show_domain_stats(domain, color='blue', alpha=1):\n",
    "    data = get_data_for_domain(domain)\n",
    "    show_stats(data, color, alpha)\n",
    "    return data"
   ]
  },
  {
   "cell_type": "code",
   "execution_count": 32,
   "metadata": {},
   "outputs": [
    {
     "data": {
      "image/png": "[encoded data removed]",
      "text/plain": [
       "<Figure size 640x480 with 1 Axes>"
      ]
     },
     "metadata": {},
     "output_type": "display_data"
    }
   ],
   "source": [
    "#LinkedIn usage\n",
    "\n",
    "_= show_domain_stats('linkedin', 'blue')"
   ]
  },
  {
   "cell_type": "code",
   "execution_count": 33,
   "metadata": {},
   "outputs": [],
   "source": [
    "#LinkedIn is used mostly at evening time to apply or network. Mostly being used from 4-7 PM which could be leisure time that is being used to network"
   ]
  },
  {
   "cell_type": "code",
   "execution_count": 34,
   "metadata": {},
   "outputs": [
    {
     "data": {
      "image/png": "[encoded data removed]",
      "text/plain": [
       "<Figure size 640x480 with 1 Axes>"
      ]
     },
     "metadata": {},
     "output_type": "display_data"
    }
   ],
   "source": [
    "#Instagram usage#LinkedIn usage\n",
    "_= show_domain_stats('instagram', 'grey')"
   ]
  },
  {
   "cell_type": "code",
   "execution_count": 35,
   "metadata": {},
   "outputs": [],
   "source": [
    "#Instagram pattern shows very limited usage. User could have an app for this."
   ]
  },
  {
   "cell_type": "code",
   "execution_count": 36,
   "metadata": {},
   "outputs": [
    {
     "data": {
      "image/png": "[encoded data removed]",
      "text/plain": [
       "<Figure size 640x480 with 1 Axes>"
      ]
     },
     "metadata": {},
     "output_type": "display_data"
    }
   ],
   "source": [
    "#CHATGPT usage\n",
    "_ = show_domain_stats('chatgpt', 'magenta')\n"
   ]
  },
  {
   "cell_type": "code",
   "execution_count": 37,
   "metadata": {},
   "outputs": [],
   "source": [
    "#Chat gpt usage is significant during evening time this could be used for learning and exploring new stuff.\n"
   ]
  },
  {
   "cell_type": "code",
   "execution_count": 38,
   "metadata": {
    "scrolled": false
   },
   "outputs": [
    {
     "data": {
      "image/png": "[encoded data removed]",
      "text/plain": [
       "<Figure size 640x480 with 1 Axes>"
      ]
     },
     "metadata": {},
     "output_type": "display_data"
    }
   ],
   "source": [
    "# Youtube Usage\n",
    "_ = show_domain_stats('youtube', 'red')"
   ]
  },
  {
   "cell_type": "code",
   "execution_count": 39,
   "metadata": {},
   "outputs": [],
   "source": [
    "#Youtube utilization suggests that youtube is used almost at all times except when the user could be sleeping\n",
    "#peaks can be observed  in night from 10 PM-2 AM"
   ]
  },
  {
   "cell_type": "code",
   "execution_count": 40,
   "metadata": {},
   "outputs": [
    {
     "data": {
      "image/png": "[encoded data removed]",
      "text/plain": [
       "<Figure size 640x480 with 1 Axes>"
      ]
     },
     "metadata": {},
     "output_type": "display_data"
    }
   ],
   "source": [
    "#Google usage\n",
    "_ = show_domain_stats('google', 'yellow')"
   ]
  },
  {
   "cell_type": "code",
   "execution_count": 41,
   "metadata": {},
   "outputs": [],
   "source": [
    "#Signigicant Google visits suggests that user is frequently  trying get information about differnet things. "
   ]
  },
  {
   "cell_type": "code",
   "execution_count": 42,
   "metadata": {},
   "outputs": [
    {
     "data": {
      "image/png": "[encoded data removed]",
      "text/plain": [
       "<Figure size 640x480 with 1 Axes>"
      ]
     },
     "metadata": {},
     "output_type": "display_data"
    }
   ],
   "source": [
    "#Amazon Usage\n",
    "_=show_domain_stats('amazon', 'black')"
   ]
  },
  {
   "cell_type": "code",
   "execution_count": 43,
   "metadata": {},
   "outputs": [],
   "source": [
    "#Amazon usage shows very limited usage. This suggests that user is not a frequent shopper."
   ]
  },
  {
   "cell_type": "markdown",
   "metadata": {},
   "source": [
    "### Based on data, what can we tell about this person?\n",
    "\n",
    "1. Is this a work computer/personal computer?\n",
    "1. Is user employed?\n",
    "1. What is his interests?\n",
    "1. Anything interesting? "
   ]
  },
  {
   "cell_type": "markdown",
   "metadata": {},
   "source": [
    "1. Based on the frequent vists to Instagram, GlassDoor, and UMBC. This shows that this might be a personal Computer as people generally do not access instagram through their work laptop. Additionally visits to UMBC and activity during weekends and late nights suggest that this might be a personal laptop\n"
   ]
  },
  {
   "cell_type": "markdown",
   "metadata": {},
   "source": [
    "2. Is user employed?\n",
    "As most of the activity is on LinkedIn it can be assummed that user can be just networking but visits to various recruiting websites it can be assumed that the user is currently not employed."
   ]
  },
  {
   "cell_type": "markdown",
   "metadata": {},
   "source": [
    "3. What is his interests?\n",
    "It looks like the user only uses youtube a lot for entertainment. Additionally, visits to NeetCode, Geeks for geeks and chat GPT suggest that the user might be interested in coding and learning things right now \n"
   ]
  },
  {
   "cell_type": "markdown",
   "metadata": {},
   "source": [
    "4. \n",
    "-> There were multiple visits to accounts.google.com suggest that this is an academic account and the user has multiple accounts for different purposes\n",
    "-> Multiple visits to umbc authentication website can also be seen to log in to myumbc portal which shows network security "
   ]
  },
  {
   "cell_type": "code",
   "execution_count": null,
   "metadata": {},
   "outputs": [],
   "source": []
  }
 ],
 "metadata": {
  "kernelspec": {
   "display_name": "Python 3 (ipykernel)",
   "language": "python",
   "name": "python3"
  },
  "language_info": {
   "codemirror_mode": {
    "name": "ipython",
    "version": 3
   },
   "file_extension": ".py",
   "mimetype": "text/x-python",
   "name": "python",
   "nbconvert_exporter": "python",
   "pygments_lexer": "ipython3",
   "version": "3.11.4"
  },
  "toc": {
   "base_numbering": 1,
   "nav_menu": {},
   "number_sections": true,
   "sideBar": true,
   "skip_h1_title": false,
   "title_cell": "Table of Contents",
   "title_sidebar": "Contents",
   "toc_cell": false,
   "toc_position": {},
   "toc_section_display": true,
   "toc_window_display": false
  },
  "varInspector": {
   "cols": {
    "lenName": 16,
    "lenType": 16,
    "lenVar": 40
   },
   "kernels_config": {
    "python": {
     "delete_cmd_postfix": "",
     "delete_cmd_prefix": "del ",
     "library": "var_list.py",
     "varRefreshCmd": "print(var_dic_list())"
    },
    "r": {
     "delete_cmd_postfix": ") ",
     "delete_cmd_prefix": "rm(",
     "library": "var_list.r",
     "varRefreshCmd": "cat(var_dic_list()) "
    }
   },
   "types_to_exclude": [
    "module",
    "function",
    "builtin_function_or_method",
    "instance",
    "_Feature"
   ],
   "window_display": false
  }
 },
 "nbformat": 4,
 "nbformat_minor": 2
}
