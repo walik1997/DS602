{
 "cells": [
  {
   "cell_type": "markdown",
   "metadata": {},
   "source": [
    "# Week 10 - PCA and Dimension Reduction Homework\n",
    "Execute the below code and answer the following questions. __Do NOT commit the csv file!__"
   ]
  },
  {
   "cell_type": "code",
   "execution_count": 4,
   "metadata": {},
   "outputs": [],
   "source": [
    "    import pandas as pd\n",
    "    import numpy as np\n",
    "    import matplotlib.pyplot as plt\n",
    "    %matplotlib inline\n",
    "    from sklearn.datasets import make_classification\n",
    "\n",
    "    def generate_data():\n",
    "        x, y = make_classification(n_samples=1500, \n",
    "                                n_features = 20,\n",
    "                                n_informative = 8,\n",
    "                                n_redundant = 5,\n",
    "                                n_repeated = 1, \n",
    "                                n_classes = 3,\n",
    "                                weights = (0.5, 0.25, 0.25),\n",
    "                                random_state = 120\n",
    "                                )\n",
    "        colNames = ['var'+str(x) for x in range(20)]\n",
    "        colNames.append('target')\n",
    "\n",
    "        df = pd.DataFrame(np.concatenate((x,y.reshape(-1,1)), axis=1), columns=colNames)\n",
    "    #     df.to_csv('pca-dataset.csv', index=False)\n",
    "        return df\n",
    "\n",
    "    df = generate_data()"
   ]
  },
  {
   "cell_type": "code",
   "execution_count": 5,
   "metadata": {},
   "outputs": [
    {
     "data": {
      "text/html": [
       "<div>\n",
       "<style scoped>\n",
       "    .dataframe tbody tr th:only-of-type {\n",
       "        vertical-align: middle;\n",
       "    }\n",
       "\n",
       "    .dataframe tbody tr th {\n",
       "        vertical-align: top;\n",
       "    }\n",
       "\n",
       "    .dataframe thead th {\n",
       "        text-align: right;\n",
       "    }\n",
       "</style>\n",
       "<table border=\"1\" class=\"dataframe\">\n",
       "  <thead>\n",
       "    <tr style=\"text-align: right;\">\n",
       "      <th></th>\n",
       "      <th>var0</th>\n",
       "      <th>var1</th>\n",
       "      <th>var2</th>\n",
       "      <th>var3</th>\n",
       "      <th>var4</th>\n",
       "      <th>var5</th>\n",
       "      <th>var6</th>\n",
       "      <th>var7</th>\n",
       "      <th>var8</th>\n",
       "      <th>var9</th>\n",
       "      <th>...</th>\n",
       "      <th>var11</th>\n",
       "      <th>var12</th>\n",
       "      <th>var13</th>\n",
       "      <th>var14</th>\n",
       "      <th>var15</th>\n",
       "      <th>var16</th>\n",
       "      <th>var17</th>\n",
       "      <th>var18</th>\n",
       "      <th>var19</th>\n",
       "      <th>target</th>\n",
       "    </tr>\n",
       "  </thead>\n",
       "  <tbody>\n",
       "    <tr>\n",
       "      <th>0</th>\n",
       "      <td>-2.882513</td>\n",
       "      <td>-3.272465</td>\n",
       "      <td>-2.520732</td>\n",
       "      <td>-1.987174</td>\n",
       "      <td>-2.073689</td>\n",
       "      <td>-3.272465</td>\n",
       "      <td>-1.237969</td>\n",
       "      <td>1.690547</td>\n",
       "      <td>-0.211314</td>\n",
       "      <td>-5.753190</td>\n",
       "      <td>...</td>\n",
       "      <td>-0.574979</td>\n",
       "      <td>-1.916275</td>\n",
       "      <td>-5.994075</td>\n",
       "      <td>-3.349615</td>\n",
       "      <td>-0.846193</td>\n",
       "      <td>2.491347</td>\n",
       "      <td>1.360958</td>\n",
       "      <td>-2.892522</td>\n",
       "      <td>-1.377561</td>\n",
       "      <td>0.0</td>\n",
       "    </tr>\n",
       "    <tr>\n",
       "      <th>1</th>\n",
       "      <td>0.775242</td>\n",
       "      <td>-1.015994</td>\n",
       "      <td>0.005137</td>\n",
       "      <td>0.057274</td>\n",
       "      <td>0.590205</td>\n",
       "      <td>-1.015994</td>\n",
       "      <td>1.350954</td>\n",
       "      <td>-1.493037</td>\n",
       "      <td>-0.862391</td>\n",
       "      <td>-1.986047</td>\n",
       "      <td>...</td>\n",
       "      <td>0.523760</td>\n",
       "      <td>0.399579</td>\n",
       "      <td>0.088600</td>\n",
       "      <td>0.718606</td>\n",
       "      <td>-1.112030</td>\n",
       "      <td>0.083929</td>\n",
       "      <td>0.606544</td>\n",
       "      <td>-1.376793</td>\n",
       "      <td>1.302641</td>\n",
       "      <td>2.0</td>\n",
       "    </tr>\n",
       "    <tr>\n",
       "      <th>2</th>\n",
       "      <td>-0.876376</td>\n",
       "      <td>0.220453</td>\n",
       "      <td>3.114224</td>\n",
       "      <td>-1.640025</td>\n",
       "      <td>1.180348</td>\n",
       "      <td>0.220453</td>\n",
       "      <td>0.465102</td>\n",
       "      <td>0.222511</td>\n",
       "      <td>0.880455</td>\n",
       "      <td>2.922315</td>\n",
       "      <td>...</td>\n",
       "      <td>-0.370516</td>\n",
       "      <td>3.585262</td>\n",
       "      <td>-2.168162</td>\n",
       "      <td>2.693429</td>\n",
       "      <td>-0.966636</td>\n",
       "      <td>1.586302</td>\n",
       "      <td>-2.821546</td>\n",
       "      <td>0.482164</td>\n",
       "      <td>0.187404</td>\n",
       "      <td>0.0</td>\n",
       "    </tr>\n",
       "    <tr>\n",
       "      <th>3</th>\n",
       "      <td>-2.550342</td>\n",
       "      <td>-1.968144</td>\n",
       "      <td>0.077681</td>\n",
       "      <td>-1.887719</td>\n",
       "      <td>1.864445</td>\n",
       "      <td>-1.968144</td>\n",
       "      <td>-0.527958</td>\n",
       "      <td>-0.201467</td>\n",
       "      <td>-0.532649</td>\n",
       "      <td>2.287445</td>\n",
       "      <td>...</td>\n",
       "      <td>-0.041341</td>\n",
       "      <td>2.383582</td>\n",
       "      <td>-0.417253</td>\n",
       "      <td>1.305379</td>\n",
       "      <td>-0.435123</td>\n",
       "      <td>-0.468557</td>\n",
       "      <td>0.923290</td>\n",
       "      <td>3.880050</td>\n",
       "      <td>2.676798</td>\n",
       "      <td>1.0</td>\n",
       "    </tr>\n",
       "    <tr>\n",
       "      <th>4</th>\n",
       "      <td>-0.454974</td>\n",
       "      <td>1.293300</td>\n",
       "      <td>0.112201</td>\n",
       "      <td>-0.589989</td>\n",
       "      <td>-1.674321</td>\n",
       "      <td>1.293300</td>\n",
       "      <td>0.487302</td>\n",
       "      <td>1.776318</td>\n",
       "      <td>0.702520</td>\n",
       "      <td>-1.024127</td>\n",
       "      <td>...</td>\n",
       "      <td>-0.452869</td>\n",
       "      <td>-0.667306</td>\n",
       "      <td>0.345364</td>\n",
       "      <td>-3.920591</td>\n",
       "      <td>-0.438296</td>\n",
       "      <td>-1.690141</td>\n",
       "      <td>0.176906</td>\n",
       "      <td>1.920142</td>\n",
       "      <td>1.474634</td>\n",
       "      <td>0.0</td>\n",
       "    </tr>\n",
       "  </tbody>\n",
       "</table>\n",
       "<p>5 rows × 21 columns</p>\n",
       "</div>"
      ],
      "text/plain": [
       "       var0      var1      var2      var3      var4      var5      var6  \\\n",
       "0 -2.882513 -3.272465 -2.520732 -1.987174 -2.073689 -3.272465 -1.237969   \n",
       "1  0.775242 -1.015994  0.005137  0.057274  0.590205 -1.015994  1.350954   \n",
       "2 -0.876376  0.220453  3.114224 -1.640025  1.180348  0.220453  0.465102   \n",
       "3 -2.550342 -1.968144  0.077681 -1.887719  1.864445 -1.968144 -0.527958   \n",
       "4 -0.454974  1.293300  0.112201 -0.589989 -1.674321  1.293300  0.487302   \n",
       "\n",
       "       var7      var8      var9  ...     var11     var12     var13     var14  \\\n",
       "0  1.690547 -0.211314 -5.753190  ... -0.574979 -1.916275 -5.994075 -3.349615   \n",
       "1 -1.493037 -0.862391 -1.986047  ...  0.523760  0.399579  0.088600  0.718606   \n",
       "2  0.222511  0.880455  2.922315  ... -0.370516  3.585262 -2.168162  2.693429   \n",
       "3 -0.201467 -0.532649  2.287445  ... -0.041341  2.383582 -0.417253  1.305379   \n",
       "4  1.776318  0.702520 -1.024127  ... -0.452869 -0.667306  0.345364 -3.920591   \n",
       "\n",
       "      var15     var16     var17     var18     var19  target  \n",
       "0 -0.846193  2.491347  1.360958 -2.892522 -1.377561     0.0  \n",
       "1 -1.112030  0.083929  0.606544 -1.376793  1.302641     2.0  \n",
       "2 -0.966636  1.586302 -2.821546  0.482164  0.187404     0.0  \n",
       "3 -0.435123 -0.468557  0.923290  3.880050  2.676798     1.0  \n",
       "4 -0.438296 -1.690141  0.176906  1.920142  1.474634     0.0  \n",
       "\n",
       "[5 rows x 21 columns]"
      ]
     },
     "execution_count": 5,
     "metadata": {},
     "output_type": "execute_result"
    }
   ],
   "source": [
    "df.head()"
   ]
  },
  {
   "cell_type": "code",
   "execution_count": 6,
   "metadata": {},
   "outputs": [
    {
     "name": "stdout",
     "output_type": "stream",
     "text": [
      "<class 'pandas.core.frame.DataFrame'>\n",
      "RangeIndex: 1500 entries, 0 to 1499\n",
      "Data columns (total 21 columns):\n",
      " #   Column  Non-Null Count  Dtype  \n",
      "---  ------  --------------  -----  \n",
      " 0   var0    1500 non-null   float64\n",
      " 1   var1    1500 non-null   float64\n",
      " 2   var2    1500 non-null   float64\n",
      " 3   var3    1500 non-null   float64\n",
      " 4   var4    1500 non-null   float64\n",
      " 5   var5    1500 non-null   float64\n",
      " 6   var6    1500 non-null   float64\n",
      " 7   var7    1500 non-null   float64\n",
      " 8   var8    1500 non-null   float64\n",
      " 9   var9    1500 non-null   float64\n",
      " 10  var10   1500 non-null   float64\n",
      " 11  var11   1500 non-null   float64\n",
      " 12  var12   1500 non-null   float64\n",
      " 13  var13   1500 non-null   float64\n",
      " 14  var14   1500 non-null   float64\n",
      " 15  var15   1500 non-null   float64\n",
      " 16  var16   1500 non-null   float64\n",
      " 17  var17   1500 non-null   float64\n",
      " 18  var18   1500 non-null   float64\n",
      " 19  var19   1500 non-null   float64\n",
      " 20  target  1500 non-null   float64\n",
      "dtypes: float64(21)\n",
      "memory usage: 246.2 KB\n"
     ]
    }
   ],
   "source": [
    "df.info()"
   ]
  },
  {
   "cell_type": "code",
   "execution_count": 7,
   "metadata": {},
   "outputs": [
    {
     "name": "stdout",
     "output_type": "stream",
     "text": [
      "Training samples: 1,200\n",
      "Test samples: 300\n",
      "\n",
      "Features:\n",
      "var0\tvar1\tvar2\tvar3\tvar4\tvar5\tvar6\tvar7\tvar8\tvar9\tvar10\tvar11\tvar12\tvar13\tvar14\tvar15\tvar16\tvar17\tvar18\tvar19\n"
     ]
    }
   ],
   "source": [
    "from sklearn.model_selection import train_test_split\n",
    "\n",
    "X = df[[x for x in df.columns if x.startswith('var')]]\n",
    "y = df['target']\n",
    "\n",
    "X_train, X_test, y_training, y_test = train_test_split(X, y, test_size=0.2, random_state=123)\n",
    "\n",
    "print(f'Training samples: {X_train.shape[0]:,}')\n",
    "print(f'Test samples: {X_test.shape[0]:,}')\n",
    "\n",
    "print('\\nFeatures:')\n",
    "print(*X_train, sep='\\t')"
   ]
  },
  {
   "cell_type": "markdown",
   "metadata": {},
   "source": [
    "### Data Description\n",
    "- `var1 - var19`: a feature for the data.  \n",
    "- `target`: variable we wish to be able to predict, which is 1 of 3 classes."
   ]
  },
  {
   "cell_type": "markdown",
   "metadata": {},
   "source": [
    "# Question 1\n",
    "- Use principle components analysis to determine the number of components to reduce the data to by evaluating the explained variance ratio (use `X_train`).  \n",
    "- Remember to scale the data first.  \n",
    "- What number of components would you recommend based on your analysis?  \n",
    "- Explain your results using markdown cells."
   ]
  },
  {
   "cell_type": "code",
   "execution_count": 9,
   "metadata": {},
   "outputs": [
    {
     "name": "stdout",
     "output_type": "stream",
     "text": [
      "Optimal number of components: 13\n",
      "Transformed dataset shape: (1200, 13)\n"
     ]
    }
   ],
   "source": [
    "from sklearn.decomposition import PCA\n",
    "from sklearn.preprocessing import StandardScaler\n",
    "\n",
    "# Standardize the training data\n",
    "scaler = StandardScaler()\n",
    "X_train_scaled = scaler.fit_transform(X_train)\n",
    "\n",
    "# Apply PCA to the standardized data\n",
    "pca = PCA()\n",
    "pca.fit(X_train_scaled)\n",
    "\n",
    "# Determine the number of components to retain 95% of variance\n",
    "threshold = 0.95\n",
    "cumulative_variance_ratio = pca.explained_variance_ratio_.cumsum()\n",
    "n_components = next(i for i, total_variance in enumerate(cumulative_variance_ratio) if total_variance >= threshold) + 1\n",
    "\n",
    "# Transform the data using PCA with the optimal number of components\n",
    "pca_optimal = PCA(n_components=n_components)\n",
    "X_train_pca = pca_optimal.fit_transform(X_train_scaled)\n",
    "\n",
    "# Output the number of components and transformed dataset\n",
    "print(f\"Optimal number of components: {n_components}\")\n",
    "print(f\"Transformed dataset shape: {X_train_pca.shape}\")\n"
   ]
  },
  {
   "cell_type": "code",
   "execution_count": 12,
   "metadata": {
    "scrolled": false
   },
   "outputs": [
    {
     "data": {
      "image/png": "[encoded data removed]",
      "text/plain": [
       "<Figure size 1000x600 with 1 Axes>"
      ]
     },
     "metadata": {},
     "output_type": "display_data"
    }
   ],
   "source": [
    "plt.figure(figsize=(10, 6))\n",
    "plt.plot(range(1, len(cumulative_variance_ratio) + 1), cumulative_variance_ratio, marker='o', linestyle='--')\n",
    "plt.axhline(y=threshold, color='r', linestyle='--', label=f'{threshold * 100}% Variance')\n",
    "plt.title('Explained Variance Ratio by Principal Components', fontsize=16)\n",
    "plt.xlabel('Number of Principal Components', fontsize=14)\n",
    "plt.ylabel('Cumulative Explained Variance Ratio', fontsize=14)\n",
    "plt.xticks(range(1, len(cumulative_variance_ratio) + 1))\n",
    "plt.grid(True)\n",
    "plt.legend()\n",
    "plt.show()"
   ]
  },
  {
   "cell_type": "markdown",
   "metadata": {},
   "source": [
    "The code uses >= threshold to ensure the exact number of components is sufficient to meet the 95% variance requirement.\n",
    "If the 12th component doesn't fully meet 95%, the 13th component is included to satisfy the condition."
   ]
  },
  {
   "cell_type": "markdown",
   "metadata": {},
   "source": [
    "# Describe Results\n",
    "\n",
    "After applying Principal Component Analysis (PCA) on the dataset, 13 components are sufficient to explain at least 95% of the variance in the data. This means that the first 13 principal components capture almost all the important information (variability) from the original (var0 to var19).\n",
    "\n",
    "The dimensionality of the data has been reduced from 20 features to 13 features, significantly simplifying the dataset while retaining most of the information."
   ]
  },
  {
   "cell_type": "markdown",
   "metadata": {},
   "source": [
    "<Insert comments>"
   ]
  },
  {
   "cell_type": "markdown",
   "metadata": {},
   "source": [
    "# Question 2\n",
    "- Evaluate the target variable in the `df` object.  \n",
    "- Which metric would you use in evaluating a predictive model. Explain your choice in the markdown cell. "
   ]
  },
  {
   "cell_type": "code",
   "execution_count": 17,
   "metadata": {},
   "outputs": [
    {
     "data": {
      "image/png": "[encoded data removed]",
      "text/plain": [
       "<Figure size 800x600 with 1 Axes>"
      ]
     },
     "metadata": {},
     "output_type": "display_data"
    }
   ],
   "source": [
    "target_distribution = df['target'].value_counts(normalize=True)\n",
    "\n",
    "# Plotting the normalized class distribution\n",
    "plt.figure(figsize=(8, 6))\n",
    "target_distribution.plot(kind='bar', color='skyblue')\n",
    "plt.xlabel('Class')\n",
    "plt.ylabel('Proportion')\n",
    "plt.title('Normalized Distribution of Classes in the Dataset')\n",
    "plt.xticks(rotation=0)  \n",
    "plt.show()"
   ]
  },
  {
   "cell_type": "code",
   "execution_count": 18,
   "metadata": {},
   "outputs": [
    {
     "name": "stdout",
     "output_type": "stream",
     "text": [
      "Unique Value Counts in Target:\n",
      "0.0    744\n",
      "2.0    380\n",
      "1.0    376\n",
      "Name: target, dtype: int64\n"
     ]
    }
   ],
   "source": [
    "#unique value counts\n",
    "unique_value_counts = df['target'].value_counts()\n",
    "\n",
    "unique value counts\n",
    "print(\"Unique Value Counts in Target:\")\n",
    "print(unique_value_counts)"
   ]
  },
  {
   "cell_type": "markdown",
   "metadata": {},
   "source": [
    "> Describe your results here\n",
    "\n",
    "1. Class 0.0 == 50% of the data,  \n",
    "2. 1.0 and 2.0 each make up ~25%. \n",
    "\n",
    "Accuracy can not be used because there is not balanced. Since the data is imbalanced the model could favor 0 and still give a  high accuracy without being accurate (1.0 and 2.0)."
   ]
  },
  {
   "cell_type": "markdown",
   "metadata": {},
   "source": [
    "# Metric - F1\n",
    "\n",
    "\n",
    "The F1-score is the harmonic mean of precision and recall. It balances the trade-off between false positives and false negatives, which is critical when dealing with imbalanced data."
   ]
  },
  {
   "cell_type": "markdown",
   "metadata": {},
   "source": [
    "# Question 3\n",
    "- Without using PCA, create a logistic regression model using practices discussed in class.  \n",
    "- Which model would you choose? Explain your results in the markdown cells.    \n",
    "- What is the accuracy, precision, and recall for the test data?  "
   ]
  },
  {
   "cell_type": "code",
   "execution_count": 20,
   "metadata": {},
   "outputs": [
    {
     "name": "stdout",
     "output_type": "stream",
     "text": [
      "Accuracy: 0.7033\n",
      "Precision: 0.7040\n",
      "Recall: 0.7033\n",
      "\n",
      "Classification Report:\n",
      "              precision    recall  f1-score   support\n",
      "\n",
      "         0.0       0.75      0.76      0.76       153\n",
      "         1.0       0.68      0.59      0.63        74\n",
      "         2.0       0.62      0.68      0.65        73\n",
      "\n",
      "    accuracy                           0.70       300\n",
      "   macro avg       0.69      0.68      0.68       300\n",
      "weighted avg       0.70      0.70      0.70       300\n",
      "\n"
     ]
    }
   ],
   "source": [
    "from sklearn.linear_model import LogisticRegression\n",
    "from sklearn.metrics import accuracy_score, precision_score, recall_score, classification_report\n",
    "from sklearn.preprocessing import StandardScaler\n",
    "from sklearn.model_selection import train_test_split\n",
    "\n",
    "# Split the data into training and testing sets\n",
    "X = df[[col for col in df.columns if col.startswith('var')]]\n",
    "y = df['target']\n",
    "\n",
    "X_train, X_test, y_train, y_test = train_test_split(X, y, test_size=0.2, random_state=123)\n",
    "\n",
    "# Standardize the data\n",
    "scaler = StandardScaler()\n",
    "X_train_scaled = scaler.fit_transform(X_train)\n",
    "X_test_scaled = scaler.transform(X_test)\n",
    "\n",
    "# Train the logistic regression model\n",
    "log_reg = LogisticRegression(multi_class='multinomial', solver='lbfgs', max_iter=500, random_state=123)\n",
    "log_reg.fit(X_train_scaled, y_train)\n",
    "\n",
    "# Make predictions\n",
    "y_pred = log_reg.predict(X_test_scaled)\n",
    "\n",
    "# Evaluate the model\n",
    "accuracy = accuracy_score(y_test, y_pred)\n",
    "precision = precision_score(y_test, y_pred, average='weighted')\n",
    "recall = recall_score(y_test, y_pred, average='weighted')\n",
    "\n",
    "# Print metrics\n",
    "print(f\"Accuracy: {accuracy:.4f}\")\n",
    "print(f\"Precision: {precision:.4f}\")\n",
    "print(f\"Recall: {recall:.4f}\")\n",
    "\n",
    "# Classification report for detailed analysis\n",
    "print(\"\\nClassification Report:\")\n",
    "print(classification_report(y_test, y_pred))\n"
   ]
  },
  {
   "cell_type": "markdown",
   "metadata": {},
   "source": [
    "> Describe results here\n",
    "\n",
    "Class 0.0 : F1-Score: 76% \n",
    "The model performs the best for this class, as it has the highest F1-score. This is due to the larger representation (~50%) of this class in the dataset, making it easier for the model to predict correctly.\n",
    "\n",
    "Class 1.0: F1-Score63%\n",
    "The model struggles for this class, as both precision (68%) and recall (59%) are lower, leading to a relatively moderate F1-score. The  representation of this class (~25%) contributes to the challenge in accurately predicting it.\n",
    "\n",
    "Class 2.0: F1-Score: 65%\n",
    "The model performs slightly better in comparision for this class than for 1.0. The recall (68%) is higher than precision (62%), leading to a decent F1-score. However, the class imbalance still impacts the performance."
   ]
  },
  {
   "cell_type": "markdown",
   "metadata": {},
   "source": [
    "# Insights\n",
    "\n",
    "The logistic regression model performs well overall, with strong results for the majority class (0.0). However, it struggles with the minority classes (1.0 and 2.0), particularly in terms of recall, which reduces their F1-scores."
   ]
  },
  {
   "cell_type": "markdown",
   "metadata": {},
   "source": [
    "# Question 4\n",
    "- Use PCA within a pipeline to create a logistic regression model using best practices from class.  \n",
    "- Which model performs the best on the training data? Explain your results in markdown cells.  \n",
    "- What is the accuracy, precision, and recall for the test data?\n",
    "- Does this perform better than the original logistic regression model?"
   ]
  },
  {
   "cell_type": "code",
   "execution_count": 21,
   "metadata": {},
   "outputs": [
    {
     "name": "stdout",
     "output_type": "stream",
     "text": [
      "Accuracy with PCA: 0.7100\n",
      "Precision with PCA: 0.7091\n",
      "Recall with PCA: 0.7100\n",
      "\n",
      "Classification Report with PCA:\n",
      "              precision    recall  f1-score   support\n",
      "\n",
      "         0.0       0.75      0.78      0.77       153\n",
      "         1.0       0.68      0.59      0.63        74\n",
      "         2.0       0.65      0.68      0.67        73\n",
      "\n",
      "    accuracy                           0.71       300\n",
      "   macro avg       0.69      0.69      0.69       300\n",
      "weighted avg       0.71      0.71      0.71       300\n",
      "\n"
     ]
    }
   ],
   "source": [
    "from sklearn.pipeline import Pipeline\n",
    "from sklearn.decomposition import PCA\n",
    "from sklearn.linear_model import LogisticRegression\n",
    "from sklearn.metrics import accuracy_score, precision_score, recall_score, classification_report\n",
    "\n",
    "# pipeline with PCA and Logistic Regression\n",
    "pipeline = Pipeline([\n",
    "    ('scaler', StandardScaler()),\n",
    "    ('pca', PCA(n_components=13)), \n",
    "    ('log_reg', LogisticRegression(multi_class='multinomial', solver='lbfgs', max_iter=500, random_state=123))\n",
    "])\n",
    "\n",
    "# Training the pipeline\n",
    "pipeline.fit(X_train, y_train)\n",
    "\n",
    "# Make predictions on the test data\n",
    "y_pred_pca = pipeline.predict(X_test)\n",
    "\n",
    "# Evaluating the model\n",
    "accuracy_pca = accuracy_score(y_test, y_pred_pca)\n",
    "precision_pca = precision_score(y_test, y_pred_pca, average='weighted')\n",
    "recall_pca = recall_score(y_test, y_pred_pca, average='weighted')\n",
    "\n",
    "# Printing the results\n",
    "\n",
    "print(f\"Accuracy with PCA: {accuracy_pca:.4f}\")\n",
    "print(f\"Precision with PCA: {precision_pca:.4f}\")\n",
    "print(f\"Recall with PCA: {recall_pca:.4f}\")\n",
    "\n",
    "\n",
    "print(\"\\nClassification Report with PCA:\")\n",
    "print(classification_report(y_test, y_pred_pca))\n"
   ]
  },
  {
   "cell_type": "markdown",
   "metadata": {},
   "source": [
    "#focussing on all metrics  though main is F1\n",
    "Class 0.0 : Precision: 75%, Recall: 78%, F1-Score: 77%\n",
    "The model performs best on this class due to its larger representation in the data (~50%).\n",
    "\n",
    "Class 1.0: Precision: 68%, Recall: 59%, F1-Score: 63%\n",
    "Performance is similar to the original model but slightly improved in F1-score.\n",
    "\n",
    "Class 2.0:Precision: 65%, Recall: 68%, F1-Score: 67%\n",
    "Minor improvements in F1-score over the original model."
   ]
  },
  {
   "cell_type": "markdown",
   "metadata": {},
   "source": [
    "# Insights\n",
    "Using PCA in the pipeline improves the logistic regression model slightly. It reduces the dimensionality of the dataset which simplifies the data and potentially reduces overfitting. The improvement is small but notable, especially for the minority classes."
   ]
  },
  {
   "cell_type": "markdown",
   "metadata": {},
   "source": [
    "# Question 5"
   ]
  },
  {
   "cell_type": "markdown",
   "metadata": {},
   "source": [
    "- Without using PCA, create a decision tree model using best practices discussed in class.  \n",
    "- Which model performs the best on the training data? Explain your results in the markdown cells.  \n",
    "- What is the accuracy, precision, and recall for the test data?  \n",
    "- Does this perform better than either of the logistic regression models?"
   ]
  },
  {
   "cell_type": "code",
   "execution_count": 25,
   "metadata": {},
   "outputs": [
    {
     "name": "stdout",
     "output_type": "stream",
     "text": [
      "Accuracy with Decision Tree: 0.7067\n",
      "Precision with Decision Tree: 0.7046\n",
      "Recall with Decision Tree: 0.7067\n",
      "\n",
      "Classification Report with Decision Tree:\n",
      "              precision    recall  f1-score   support\n",
      "\n",
      "         0.0       0.75      0.78      0.76       153\n",
      "         1.0       0.68      0.62      0.65        74\n",
      "         2.0       0.65      0.63      0.64        73\n",
      "\n",
      "    accuracy                           0.71       300\n",
      "   macro avg       0.69      0.68      0.68       300\n",
      "weighted avg       0.70      0.71      0.71       300\n",
      "\n"
     ]
    }
   ],
   "source": [
    "from sklearn.tree import DecisionTreeClassifier\n",
    "from sklearn.metrics import accuracy_score, precision_score, recall_score, classification_report\n",
    "\n",
    "# Creating  Decision Tree model\n",
    "decision_tree = DecisionTreeClassifier(random_state=123, max_depth=5)  \n",
    "decision_tree.fit(X_train, y_train)\n",
    "\n",
    "#predictions on the test data\n",
    "y_pred_tree = decision_tree.predict(X_test)\n",
    "\n",
    "# Evaluating the model\n",
    "accuracy_tree = accuracy_score(y_test, y_pred_tree)\n",
    "precision_tree = precision_score(y_test, y_pred_tree, average='weighted')\n",
    "recall_tree = recall_score(y_test, y_pred_tree, average='weighted')\n",
    "\n",
    "# Printing the results\n",
    "print(f\"Accuracy with Decision Tree: {accuracy_tree:.4f}\")\n",
    "print(f\"Precision with Decision Tree: {precision_tree:.4f}\")\n",
    "print(f\"Recall with Decision Tree: {recall_tree:.4f}\")\n",
    "print(\"\\nClassification Report with Decision Tree:\")\n",
    "print(classification_report(y_test, y_pred_tree))\n"
   ]
  },
  {
   "cell_type": "markdown",
   "metadata": {},
   "source": [
    "Class 0.0 : Precision: 75%, Recall: 78%, F1-Score: 76%\n",
    "Performs well due to the larger representation (~50%) of this class.\n",
    "\n",
    "Class 1.0: Precision: 68%, Recall: 62%, F1-Score: 65%\n",
    "Slightly better recall than logistic regression with PCA, but overall performance remains moderate.\n",
    "\n",
    "Class 2.0: Precision: 65%, Recall: 63%, F1-Score: 64%\n",
    "Comparable to logistic regression with PCA, showing consistency in identifying minority classes."
   ]
  },
  {
   "cell_type": "markdown",
   "metadata": {},
   "source": [
    "> Describe your results here\n",
    "\n",
    "The Decision Tree model slightly outperforms the logistic regression models in terms of recall and F1-scores, especially for the minority classes. This makes it a better choice for this dataset, where identifying true positives for all classes is important. "
   ]
  },
  {
   "cell_type": "markdown",
   "metadata": {},
   "source": [
    "# Question 6\n",
    "- Repeat `Question 5` but use PCA.  \n",
    "- Does this perform better than the original Decision Tree or the logistic regression models?"
   ]
  },
  {
   "cell_type": "code",
   "execution_count": 26,
   "metadata": {},
   "outputs": [
    {
     "name": "stdout",
     "output_type": "stream",
     "text": [
      "Accuracy with PCA + Decision Tree: 0.6733\n",
      "Precision with PCA + Decision Tree: 0.6683\n",
      "Recall with PCA + Decision Tree: 0.6733\n",
      "\n",
      "Classification Report with PCA + Decision Tree:\n",
      "              precision    recall  f1-score   support\n",
      "\n",
      "         0.0       0.73      0.82      0.78       153\n",
      "         1.0       0.63      0.42      0.50        74\n",
      "         2.0       0.57      0.62      0.59        73\n",
      "\n",
      "    accuracy                           0.67       300\n",
      "   macro avg       0.64      0.62      0.62       300\n",
      "weighted avg       0.67      0.67      0.66       300\n",
      "\n"
     ]
    }
   ],
   "source": [
    "from sklearn.pipeline import Pipeline\n",
    "from sklearn.decomposition import PCA\n",
    "from sklearn.tree import DecisionTreeClassifier\n",
    "from sklearn.metrics import accuracy_score, precision_score, recall_score, classification_report\n",
    "\n",
    "# a pipeline with PCA and Decision Tree\n",
    "pipeline_pca_tree = Pipeline([\n",
    "    ('scaler', StandardScaler()),\n",
    "    ('pca', PCA(n_components=13)),  \n",
    "    ('decision_tree', DecisionTreeClassifier(random_state=123, max_depth=5))  \n",
    "])\n",
    "\n",
    "# Training the pipeline\n",
    "pipeline_pca_tree.fit(X_train, y_train)\n",
    "\n",
    "# Make predictions on the test data\n",
    "y_pred_pca_tree = pipeline_pca_tree.predict(X_test)\n",
    "\n",
    "# Evaluating the model\n",
    "accuracy_pca_tree = accuracy_score(y_test, y_pred_pca_tree)\n",
    "precision_pca_tree = precision_score(y_test, y_pred_pca_tree, average='weighted')\n",
    "recall_pca_tree = recall_score(y_test, y_pred_pca_tree, average='weighted')\n",
    "\n",
    "# Printting the results\n",
    "print(f\"Accuracy with PCA + Decision Tree: {accuracy_pca_tree:.4f}\")\n",
    "print(f\"Precision with PCA + Decision Tree: {precision_pca_tree:.4f}\")\n",
    "print(f\"Recall with PCA + Decision Tree: {recall_pca_tree:.4f}\")\n",
    "print(\"\\nClassification Report with PCA + Decision Tree:\")\n",
    "print(classification_report(y_test, y_pred_pca_tree))\n"
   ]
  },
  {
   "cell_type": "markdown",
   "metadata": {},
   "source": [
    "Class 0.0: Precision: 73%, Recall: 82%, F1-Score: 78%\n",
    "The F1-score is high for this majority class, showing the model effectively balances precision and recall. The high recall reflects the model’s ability to correctly identify most instances of this class, contributing significantly to the overall performance.\n",
    "\n",
    "Class 1.0: Precision: 63%, Recall: 42%, F1-Score: 50%\n",
    "The low F1-score highlights the model’s struggle with this class. Despite moderate precision, the recall is much lower, indicating many false negatives. This imbalance significantly reduces the overall F1 performance for this class.\n",
    "\n",
    "Class 2.0: Precision: 57%, Recall: 62%, F1-Score: 59%\n",
    "The F1-score for this class reflects a slight imbalance between precision and recall. The model performs better than for Class 1.0 but still struggles to correctly classify some instances, resulting in a moderate F1-score."
   ]
  },
  {
   "cell_type": "markdown",
   "metadata": {},
   "source": [
    "> Describe results here\n",
    "\n",
    "The PCA + Decision Tree model shows reduced performance in terms of F1-scores compared to the original Decision Tree model and logistic regression models:\n",
    "\n",
    "The macro average F1-score of 62% highlights the challenges in handling minority classes (1.0 and 2.0), which suffer from poor recall.\n",
    "While the majority class (0.0) achieves a high F1-score, the overall balance across all classes is compromised due to the significant drop in F1-scores for minority classes."
   ]
  },
  {
   "cell_type": "markdown",
   "metadata": {},
   "source": [
    "# Overall Insights\n",
    "\n",
    "Logistic Regression with PCA stands out as the best model among the options analyzed, offering a balanced performance across all classes. With an accuracy of 71.00% and the highest macro average F1-score of 69%, it demonstrates its ability to effectively capture the variance in the dataset while simplifying the feature space using PCA.\n",
    "\n",
    "Decision Tree (Without PCA) is a close second option However, it does not outperform Logistic Regression with PCA in terms of consistency across all classes."
   ]
  },
  {
   "cell_type": "code",
   "execution_count": null,
   "metadata": {},
   "outputs": [],
   "source": []
  }
 ],
 "metadata": {
  "kernelspec": {
   "display_name": "Python 3 (ipykernel)",
   "language": "python",
   "name": "python3"
  },
  "language_info": {
   "codemirror_mode": {
    "name": "ipython",
    "version": 3
   },
   "file_extension": ".py",
   "mimetype": "text/x-python",
   "name": "python",
   "nbconvert_exporter": "python",
   "pygments_lexer": "ipython3",
   "version": "3.11.4"
  },
  "toc": {
   "base_numbering": 1,
   "nav_menu": {},
   "number_sections": true,
   "sideBar": true,
   "skip_h1_title": false,
   "title_cell": "Table of Contents",
   "title_sidebar": "Contents",
   "toc_cell": false,
   "toc_position": {},
   "toc_section_display": true,
   "toc_window_display": false
  }
 },
 "nbformat": 4,
 "nbformat_minor": 4
}
